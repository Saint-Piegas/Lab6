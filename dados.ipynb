{
 "cells": [
  {
   "cell_type": "code",
   "execution_count": 5,
   "metadata": {},
   "outputs": [],
   "source": [
    "import numpy as np\n",
    "import matplotlib.pyplot as plt\n",
    "from scipy.odr import ODR, Model, Data\n",
    "from scipy.optimize import curve_fit\n",
    "import pandas as pd\n",
    "\n",
    "KEY = '1HSxx0uVQLR8vsNozEhRawaluFY80Jzw0bjVWwdyyplE'\n",
    "URL = f'https://docs.google.com/spreadsheets/d/{KEY}/export'\n",
    "ORDEM_FEATURES = ['Velocidade (m/s)', 'Força (mN)', 'sigma F', 'sigma v']\n",
    "ASA = 'D'\n",
    "\n",
    "df = pd.read_excel(URL, sheet_name=f'Perfil {ASA}')\n",
    "Dados = {f'{i*10}': df[(df.theta >= i*10) & (df.theta < (i+1)*10)][ORDEM_FEATURES] for i in range(5)}\n",
    "for i, df in Dados.items():\n",
    "    df.to_csv(f'.\\{ASA}-{i}.csv', index=False, header=False)"
   ]
  },
  {
   "cell_type": "code",
   "execution_count": null,
   "metadata": {},
   "outputs": [],
   "source": []
  }
 ],
 "metadata": {
  "kernelspec": {
   "display_name": "EdiscilpinasBot",
   "language": "python",
   "name": "python3"
  },
  "language_info": {
   "codemirror_mode": {
    "name": "ipython",
    "version": 3
   },
   "file_extension": ".py",
   "mimetype": "text/x-python",
   "name": "python",
   "nbconvert_exporter": "python",
   "pygments_lexer": "ipython3",
   "version": "3.11.4"
  },
  "orig_nbformat": 4
 },
 "nbformat": 4,
 "nbformat_minor": 2
}
